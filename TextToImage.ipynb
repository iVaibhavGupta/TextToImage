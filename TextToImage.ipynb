{
  "nbformat": 4,
  "nbformat_minor": 0,
  "metadata": {
    "colab": {
      "provenance": [],
      "gpuType": "T4"
    },
    "kernelspec": {
      "name": "python3",
      "display_name": "Python 3"
    },
    "language_info": {
      "name": "python"
    },
    "accelerator": "GPU"
  },
  "cells": [
    {
      "cell_type": "code",
      "execution_count": null,
      "metadata": {
        "colab": {
          "base_uri": "https://localhost:8080/"
        },
        "id": "PXfdF_Th3ysb",
        "outputId": "10379a11-13e5-4d25-9532-aa071895347e"
      },
      "outputs": [
        {
          "output_type": "stream",
          "name": "stdout",
          "text": [
            "GPU available: True\n",
            "GPU name: Tesla T4\n"
          ]
        }
      ],
      "source": [
        "import torch\n",
        "print(\"GPU available:\", torch.cuda.is_available())\n",
        "print(\"GPU name:\", torch.cuda.get_device_name(0))\n"
      ]
    },
    {
      "cell_type": "code",
      "source": [
        "from diffusers import StableDiffusionPipeline\n",
        "import torch\n",
        "from PIL import Image\n",
        "\n",
        "#model_id = \"runwayml/stable-diffusion-v1-5\"\n",
        "model_id = \"stabilityai/stable-diffusion-2-1\"\n",
        "pipe = StableDiffusionPipeline.from_pretrained(model_id, torch_dtype=torch.float16)\n",
        "\n",
        "pipe =  pipe.to(\"cuda\")\n",
        "\n",
        "def generate_image(prompt, num_inference_step=50, guidance_scale=7.5):\n",
        "  with torch.autocast(\"cuda\"):\n",
        "    image =pipe(prompt, num_inference_step=num_inference_step, guidance_scale=guidance_scale).images[0]\n",
        "  return image\n",
        "\n",
        "#prompt = \"boy and girl\"\n",
        "#image = generate_image(prompt)\n",
        "\n",
        "#image.save(\"generated_image.png\")\n",
        "#print(\"image saved as generated_image.png\")\n",
        "\n",
        "#Image.open(\"generated_image.png\")*/\n"
      ],
      "metadata": {
        "colab": {
          "base_uri": "https://localhost:8080/",
          "height": 497,
          "referenced_widgets": [
            "5753035530444d1bb812a41532f87081",
            "fb1545fdb4e74cecb6172894d6c63a9b",
            "91cf73a069184526a5a74e39a193c624",
            "4e39cbe54c38478db0f3bc143e5fcbdb",
            "7db7d86ea85b4b718ac3d89e07dd8778",
            "dc0a9a0bf9ec40cfba5c38f0d3da035f",
            "b00ffabd29ab481b81c90ae7b9b31c8e",
            "153c7212c59b4865a774a777f40392bf",
            "6c8b3754843147f794e626300e654485",
            "d5fe15c407c04873ae85b7df12ee4d49",
            "08aa0759125945d4a1386a8b2dceee37",
            "5d9a6047436f493194393a633c108647",
            "c29495169fac435582fe6348bd1a8de7",
            "76ef42df9a35426b878013f9010f1200",
            "9168719bcb26435ab9f36797d42e799e",
            "f3689f5a5be54214a0aa4db167f070f3",
            "b6316271d33240ebbb48abbf73ca836c",
            "536abab50c3e41d7af94007986f40ee6",
            "29a758aaaa394d3db4050a7cb3434c07",
            "84104b7b9c674c6c9aeac97b4cb42ba6",
            "8543ff25c7c54cc1a659bd4c1596bbfa",
            "af0bd15655204a69b4def39a07fda795",
            "021927b9b0f9479eb8bdcd66ac01eb8a",
            "721ec74372d14e9bb1998b9a63ee87ed",
            "1dfd887cc4184c65ad96121b15d0f762",
            "e8391ae448f342ba9ea2a482fff032b3",
            "38c1b43232a142748f45d79cd184fd0f",
            "6da5b63fc9f54f029e0d9abe00a2984d",
            "72a9861eb3f24fafa9e3f352450e7661",
            "a125a0767a5b441f872c1af76be7e865",
            "ac683a8474e746a8b9bf75daaf4bb7a2",
            "7e4764ee38a043cdb240609e458ead54",
            "7b0370bde6ac4fe0bb955e636287d128",
            "28b6976f5d5a4b848bc02276e0688f7e",
            "e2d5c2e78202484cb54eb78c3e32d0b4",
            "6183e6b6c24a413ba87f784459e29471",
            "9ca7a3eb8f3f443eb10bfc7ab4b78541",
            "b44ed0409c7a4ab892e29dba0f860d6f",
            "1a395e1c6af74660ba2a40671fcca0ba",
            "d20a6e5194e542e9b92d72bc9d7d3e8b",
            "c3373e4c5fe6451699e817d9f7f72ad0",
            "8db080ff78c04a2b97bc02d70e3c458f",
            "cbf66b84b6d642819b6e27a31d326e4b",
            "330fb13f698e4721a10691625f0c82a6",
            "20fc1af7f1cf474c92f2cc92f351b815",
            "4247b2f3200145f888ef2eb5b3994b72",
            "51d52694a8774f0ab97346156c5cef47",
            "eaf1c8eb8efc40ada95d36c5a23b9e8b",
            "1ea7e283119a42ecb90e6c722fc2a0f3",
            "72fd32b624424f8286ea39c7ef16bd2f",
            "0e960275990b40fe8013e343d627f74e",
            "37fd437717b74136bb63407f881bd19f",
            "9dad2070739f48daa3e4c2303a904b74",
            "c28f2f62812e4553a5b64c94ccdbd0d4",
            "9bdd6c7ab1e748f3a4e4c07229019480",
            "61815e94d22a4973812fda143265fda7",
            "0ef0fc224f6c442c865e142f939dfba1",
            "e0178f3a4511449c9ed84f1b5a788133",
            "4212d9dcd50f402ea327c5253ec9164b",
            "a143f4de902e4d80ac62d6307569ddbd",
            "9a053ca552174432aa114b62dbe3f009",
            "d94718913471459ea2180e8ba6b26df1",
            "ba91b35a881b4e23a17fc666ac3afa22",
            "1d4350ccd0c7438a8ad573cc6b5ce505",
            "a25c1d7fa55c493e8158c585fafaab6c",
            "eb0623d0d98c4c75a849b16f8635c2a3",
            "9720cb56d03c41ad962515208f1c4a26",
            "d94062cf613a424e8f28d0a5e6722ff3",
            "b28fbcb5a15545459e6bd0bb080efb57",
            "33f70e6a54a54803b9b453f2b4e1f52e",
            "0f8c46222397436ca27c03751fb7191b",
            "7c0fc435b42a473290fda57fe0e8a3fb",
            "f654a24dcfcd49fd8a781b84c18df185",
            "183d6fb0dcdd45e884def99b76a08313",
            "e999bd83ac0547a1bc9d63398fe46ac4",
            "c893edc2e6594f9ab0e6f500c8b406b8",
            "10ce3c28f5fd41f1ba389dc703bd1613",
            "09ac75ad02ba4e61bd867100c800d542",
            "a7f062b6f515449cb660ad366d4e075e",
            "3699973e829c4268b78e8886f39312a8",
            "635e18aa2bbd4361a320e868015cdf2a",
            "7d9bb09bf9ff447883eeb0c18897c9f2",
            "b2f8c99cdc0d4f018a976847e2484eed",
            "a06da168a9314c609a9f5a5b237cecaa",
            "8e2e63d10bc54affbb2e3206bd0d4df5",
            "86d773f9b7fd474fa5236c48034ad1b1",
            "1f2993bef8f2401da767cb5727bc1807",
            "a733e848ae0b4684ae8c4305c5732494",
            "82a39310cfe14cb98dca06c58e603e0c",
            "3e67e0dcf6dd43b08532614a225e59bf",
            "f9e80ff7bbf443ff93c6161716c3087d",
            "b2593f64f9b6429284bae07506e269f8",
            "25a37f0a12c24c3988ea62046ffd315b",
            "54f688e174d145ac818c61b89703ea12",
            "6a151e93a1984f7c96cd2eb8b6fa25cb",
            "a2db01af351841428894dc750fb2f281",
            "122d4ceaf9b24097a31b31c775267c56",
            "5fb7a58a31274c6bbeb7447b5e0af83a",
            "e7ad396c876d49f5b54d07a2128e48f5",
            "6f0c2e5c6ca643438924c5d7095cd1b5",
            "6946d62b54cf4e379386a6b514be1fdf",
            "d6d830e085fb4eeaa7182eab4d852b1d",
            "cd92277ba8f34858a4bbfefa146d312f",
            "837bb13e2f7f40dbaf9eac33bd09bcc8",
            "9bc16640d06e49588f0748e890444a12",
            "4a11713abd0e4cf294a34a0c58f5f1bf",
            "2a5332dc4eb4481faf0c6b463fa1a06d",
            "38ac8be45bcb45479c4e6b2c469b1519",
            "9583d954ef2b442daf789657779856fe",
            "9ac96419bff244b9b102e2114265774d",
            "c54c3649f56b470a98aaa79f93acacbb",
            "2d2158626b8e4609b26f23e2b02a15d2",
            "4c1b7be3d3384ae49342f218b5de83e0",
            "93393b14f52d4094898c812d63aeb628",
            "645390bae92847d7b8149cba10409052",
            "3b0b09d9272841538a5a344e80060a51",
            "0d778704c52d4073a7cb29211c0f12b5",
            "ceb1a3504088437f9c07d3e20034ba05",
            "232ca077634c4210905b511aa4bcdd23",
            "95f68a0f659c4f719266ed85408dacbf",
            "e55f524e254f4b9fb392558ef31544b4",
            "93c251a0994543a5a50b9dfa55db7e08",
            "f25a322604354a578088ae0d5b897052",
            "fb7ce08a124947d1a74a3331e9110bbf",
            "ae060e73611246629ae5a3b9e4f9f55b",
            "a4249cfcef3448cca587a7a1d3562492",
            "2e70d27cae4942b983701e6d06ba34e8",
            "0544fa4606354a3e88a7b02f61ac4587",
            "cae1935e4063428a96088fdaa2439f78",
            "21f61213c9aa495bad3f29ee214aeb63",
            "cba38e9cf1554390811d693544a59622",
            "9d8613c75c834a2f8c727bbd0a0483e1",
            "c6007dcbc2694f64893f0f30609044d1",
            "ceb742e65b844538bf1e8cd50b1a1f97",
            "12b1564f372d4347b37be4b91c456a96",
            "3226564e0606444292248865ae65ca95",
            "4b157bb8bc484065859544aad50039e7",
            "3e7a3f97279541a7960d6d85de860bfb",
            "513799ed8b494abbbde220a8e03b02df",
            "729205cf3f274fc1997fc2457faf7c4a",
            "d84d3e92f68741f98ff46f0785f3018f",
            "e8fc2984a10c49799c362f59fbe2fdb7",
            "38bd1eaa4f22428ba338553e77fb848d",
            "dfd190dcd90b47f0b13cc308cf73a8c5",
            "b3a51df6fd5a4277ac4ff079b1877061",
            "568f03c0e4b345a7b11433ec8f284f63",
            "e51ccda239864f82a948b6fd6e117c8a",
            "6e10f2696f4643598195497ca559e5b0",
            "ff215472b16b43248488da2a46c19d5b",
            "44bb21c0538e47b3b65e587095142725",
            "4e7568024c694cfdacb1ac0fd5ea923c",
            "453432d2476c4fb089430aa435425ff4",
            "88c74d05ef844a23984eaed92d7e9b40",
            "440937fdd8854a87aa91ce940c227b9a",
            "0edcb7b0ec974b69b5a7a99c43ce1632",
            "a4d562502abc468aa6bdd350ab221152",
            "b1e50f1743b846879abb5d3ac36f9798",
            "bcdfe816f5be42c78d82c3aa76a5c8c1",
            "ca9d2ca2534e4271ad1363e33b85fe25",
            "d6fe5d075ae343dfad349fb1c60ddcc1",
            "314f977b6a4045ca9c5f87364f91634b",
            "b273821295bb45c0b8d1903441fff884",
            "f8b70df5ca8249609571c8c85195c72e",
            "9bea0fafbe3745efa5e060385247b991",
            "5238ca348c8b4bab9652b5176af92cad"
          ]
        },
        "id": "fnxHcDea6SYq",
        "outputId": "c8459eea-ec22-44a1-8c39-2c079c3a80a8"
      },
      "execution_count": null,
      "outputs": [
        {
          "output_type": "display_data",
          "data": {
            "text/plain": [
              "model_index.json:   0%|          | 0.00/537 [00:00<?, ?B/s]"
            ],
            "application/vnd.jupyter.widget-view+json": {
              "version_major": 2,
              "version_minor": 0,
              "model_id": "5753035530444d1bb812a41532f87081"
            }
          },
          "metadata": {}
        },
        {
          "output_type": "display_data",
          "data": {
            "text/plain": [
              "Fetching 13 files:   0%|          | 0/13 [00:00<?, ?it/s]"
            ],
            "application/vnd.jupyter.widget-view+json": {
              "version_major": 2,
              "version_minor": 0,
              "model_id": "5d9a6047436f493194393a633c108647"
            }
          },
          "metadata": {}
        },
        {
          "output_type": "display_data",
          "data": {
            "text/plain": [
              "model.safetensors:   0%|          | 0.00/1.36G [00:00<?, ?B/s]"
            ],
            "application/vnd.jupyter.widget-view+json": {
              "version_major": 2,
              "version_minor": 0,
              "model_id": "021927b9b0f9479eb8bdcd66ac01eb8a"
            }
          },
          "metadata": {}
        },
        {
          "output_type": "display_data",
          "data": {
            "text/plain": [
              "config.json:   0%|          | 0.00/633 [00:00<?, ?B/s]"
            ],
            "application/vnd.jupyter.widget-view+json": {
              "version_major": 2,
              "version_minor": 0,
              "model_id": "28b6976f5d5a4b848bc02276e0688f7e"
            }
          },
          "metadata": {}
        },
        {
          "output_type": "display_data",
          "data": {
            "text/plain": [
              "tokenizer_config.json:   0%|          | 0.00/824 [00:00<?, ?B/s]"
            ],
            "application/vnd.jupyter.widget-view+json": {
              "version_major": 2,
              "version_minor": 0,
              "model_id": "20fc1af7f1cf474c92f2cc92f351b815"
            }
          },
          "metadata": {}
        },
        {
          "output_type": "display_data",
          "data": {
            "text/plain": [
              "special_tokens_map.json:   0%|          | 0.00/460 [00:00<?, ?B/s]"
            ],
            "application/vnd.jupyter.widget-view+json": {
              "version_major": 2,
              "version_minor": 0,
              "model_id": "61815e94d22a4973812fda143265fda7"
            }
          },
          "metadata": {}
        },
        {
          "output_type": "display_data",
          "data": {
            "text/plain": [
              "preprocessor_config.json:   0%|          | 0.00/342 [00:00<?, ?B/s]"
            ],
            "application/vnd.jupyter.widget-view+json": {
              "version_major": 2,
              "version_minor": 0,
              "model_id": "9720cb56d03c41ad962515208f1c4a26"
            }
          },
          "metadata": {}
        },
        {
          "output_type": "display_data",
          "data": {
            "text/plain": [
              "scheduler_config.json:   0%|          | 0.00/345 [00:00<?, ?B/s]"
            ],
            "application/vnd.jupyter.widget-view+json": {
              "version_major": 2,
              "version_minor": 0,
              "model_id": "09ac75ad02ba4e61bd867100c800d542"
            }
          },
          "metadata": {}
        },
        {
          "output_type": "display_data",
          "data": {
            "text/plain": [
              "vocab.json:   0%|          | 0.00/1.06M [00:00<?, ?B/s]"
            ],
            "application/vnd.jupyter.widget-view+json": {
              "version_major": 2,
              "version_minor": 0,
              "model_id": "82a39310cfe14cb98dca06c58e603e0c"
            }
          },
          "metadata": {}
        },
        {
          "output_type": "display_data",
          "data": {
            "text/plain": [
              "merges.txt:   0%|          | 0.00/525k [00:00<?, ?B/s]"
            ],
            "application/vnd.jupyter.widget-view+json": {
              "version_major": 2,
              "version_minor": 0,
              "model_id": "6f0c2e5c6ca643438924c5d7095cd1b5"
            }
          },
          "metadata": {}
        },
        {
          "output_type": "display_data",
          "data": {
            "text/plain": [
              "diffusion_pytorch_model.safetensors:   0%|          | 0.00/3.46G [00:00<?, ?B/s]"
            ],
            "application/vnd.jupyter.widget-view+json": {
              "version_major": 2,
              "version_minor": 0,
              "model_id": "c54c3649f56b470a98aaa79f93acacbb"
            }
          },
          "metadata": {}
        },
        {
          "output_type": "display_data",
          "data": {
            "text/plain": [
              "diffusion_pytorch_model.safetensors:   0%|          | 0.00/335M [00:00<?, ?B/s]"
            ],
            "application/vnd.jupyter.widget-view+json": {
              "version_major": 2,
              "version_minor": 0,
              "model_id": "93c251a0994543a5a50b9dfa55db7e08"
            }
          },
          "metadata": {}
        },
        {
          "output_type": "display_data",
          "data": {
            "text/plain": [
              "config.json:   0%|          | 0.00/611 [00:00<?, ?B/s]"
            ],
            "application/vnd.jupyter.widget-view+json": {
              "version_major": 2,
              "version_minor": 0,
              "model_id": "c6007dcbc2694f64893f0f30609044d1"
            }
          },
          "metadata": {}
        },
        {
          "output_type": "display_data",
          "data": {
            "text/plain": [
              "config.json:   0%|          | 0.00/939 [00:00<?, ?B/s]"
            ],
            "application/vnd.jupyter.widget-view+json": {
              "version_major": 2,
              "version_minor": 0,
              "model_id": "dfd190dcd90b47f0b13cc308cf73a8c5"
            }
          },
          "metadata": {}
        },
        {
          "output_type": "display_data",
          "data": {
            "text/plain": [
              "Loading pipeline components...:   0%|          | 0/6 [00:00<?, ?it/s]"
            ],
            "application/vnd.jupyter.widget-view+json": {
              "version_major": 2,
              "version_minor": 0,
              "model_id": "0edcb7b0ec974b69b5a7a99c43ce1632"
            }
          },
          "metadata": {}
        }
      ]
    },
    {
      "cell_type": "code",
      "source": [
        "#from IPython.display import Image as IpImage\n",
        "#IpImage(filename=\"generated_image.png\")"
      ],
      "metadata": {
        "id": "Pnk3q18iSJ4R"
      },
      "execution_count": null,
      "outputs": []
    },
    {
      "cell_type": "code",
      "source": [
        "!pip install gradio"
      ],
      "metadata": {
        "colab": {
          "base_uri": "https://localhost:8080/"
        },
        "id": "DE-UsFSmNIxe",
        "outputId": "2a204447-4062-4f57-b91b-2f176fe07d98"
      },
      "execution_count": null,
      "outputs": [
        {
          "output_type": "stream",
          "name": "stdout",
          "text": [
            "Collecting gradio\n",
            "  Downloading gradio-5.20.1-py3-none-any.whl.metadata (16 kB)\n",
            "Collecting aiofiles<24.0,>=22.0 (from gradio)\n",
            "  Downloading aiofiles-23.2.1-py3-none-any.whl.metadata (9.7 kB)\n",
            "Requirement already satisfied: anyio<5.0,>=3.0 in /usr/local/lib/python3.11/dist-packages (from gradio) (3.7.1)\n",
            "Collecting fastapi<1.0,>=0.115.2 (from gradio)\n",
            "  Downloading fastapi-0.115.11-py3-none-any.whl.metadata (27 kB)\n",
            "Collecting ffmpy (from gradio)\n",
            "  Downloading ffmpy-0.5.0-py3-none-any.whl.metadata (3.0 kB)\n",
            "Collecting gradio-client==1.7.2 (from gradio)\n",
            "  Downloading gradio_client-1.7.2-py3-none-any.whl.metadata (7.1 kB)\n",
            "Collecting groovy~=0.1 (from gradio)\n",
            "  Downloading groovy-0.1.2-py3-none-any.whl.metadata (6.1 kB)\n",
            "Requirement already satisfied: httpx>=0.24.1 in /usr/local/lib/python3.11/dist-packages (from gradio) (0.28.1)\n",
            "Requirement already satisfied: huggingface-hub>=0.28.1 in /usr/local/lib/python3.11/dist-packages (from gradio) (0.28.1)\n",
            "Requirement already satisfied: jinja2<4.0 in /usr/local/lib/python3.11/dist-packages (from gradio) (3.1.6)\n",
            "Collecting markupsafe~=2.0 (from gradio)\n",
            "  Downloading MarkupSafe-2.1.5-cp311-cp311-manylinux_2_17_x86_64.manylinux2014_x86_64.whl.metadata (3.0 kB)\n",
            "Requirement already satisfied: numpy<3.0,>=1.0 in /usr/local/lib/python3.11/dist-packages (from gradio) (1.26.4)\n",
            "Requirement already satisfied: orjson~=3.0 in /usr/local/lib/python3.11/dist-packages (from gradio) (3.10.15)\n",
            "Requirement already satisfied: packaging in /usr/local/lib/python3.11/dist-packages (from gradio) (24.2)\n",
            "Requirement already satisfied: pandas<3.0,>=1.0 in /usr/local/lib/python3.11/dist-packages (from gradio) (2.2.2)\n",
            "Requirement already satisfied: pillow<12.0,>=8.0 in /usr/local/lib/python3.11/dist-packages (from gradio) (11.1.0)\n",
            "Requirement already satisfied: pydantic>=2.0 in /usr/local/lib/python3.11/dist-packages (from gradio) (2.10.6)\n",
            "Collecting pydub (from gradio)\n",
            "  Downloading pydub-0.25.1-py2.py3-none-any.whl.metadata (1.4 kB)\n",
            "Collecting python-multipart>=0.0.18 (from gradio)\n",
            "  Downloading python_multipart-0.0.20-py3-none-any.whl.metadata (1.8 kB)\n",
            "Requirement already satisfied: pyyaml<7.0,>=5.0 in /usr/local/lib/python3.11/dist-packages (from gradio) (6.0.2)\n",
            "Collecting ruff>=0.9.3 (from gradio)\n",
            "  Downloading ruff-0.9.10-py3-none-manylinux_2_17_x86_64.manylinux2014_x86_64.whl.metadata (25 kB)\n",
            "Collecting safehttpx<0.2.0,>=0.1.6 (from gradio)\n",
            "  Downloading safehttpx-0.1.6-py3-none-any.whl.metadata (4.2 kB)\n",
            "Collecting semantic-version~=2.0 (from gradio)\n",
            "  Downloading semantic_version-2.10.0-py2.py3-none-any.whl.metadata (9.7 kB)\n",
            "Collecting starlette<1.0,>=0.40.0 (from gradio)\n",
            "  Downloading starlette-0.46.1-py3-none-any.whl.metadata (6.2 kB)\n",
            "Collecting tomlkit<0.14.0,>=0.12.0 (from gradio)\n",
            "  Downloading tomlkit-0.13.2-py3-none-any.whl.metadata (2.7 kB)\n",
            "Requirement already satisfied: typer<1.0,>=0.12 in /usr/local/lib/python3.11/dist-packages (from gradio) (0.15.2)\n",
            "Requirement already satisfied: typing-extensions~=4.0 in /usr/local/lib/python3.11/dist-packages (from gradio) (4.12.2)\n",
            "Collecting uvicorn>=0.14.0 (from gradio)\n",
            "  Downloading uvicorn-0.34.0-py3-none-any.whl.metadata (6.5 kB)\n",
            "Requirement already satisfied: fsspec in /usr/local/lib/python3.11/dist-packages (from gradio-client==1.7.2->gradio) (2024.10.0)\n",
            "Requirement already satisfied: websockets<16.0,>=10.0 in /usr/local/lib/python3.11/dist-packages (from gradio-client==1.7.2->gradio) (14.2)\n",
            "Requirement already satisfied: idna>=2.8 in /usr/local/lib/python3.11/dist-packages (from anyio<5.0,>=3.0->gradio) (3.10)\n",
            "Requirement already satisfied: sniffio>=1.1 in /usr/local/lib/python3.11/dist-packages (from anyio<5.0,>=3.0->gradio) (1.3.1)\n",
            "Requirement already satisfied: certifi in /usr/local/lib/python3.11/dist-packages (from httpx>=0.24.1->gradio) (2025.1.31)\n",
            "Requirement already satisfied: httpcore==1.* in /usr/local/lib/python3.11/dist-packages (from httpx>=0.24.1->gradio) (1.0.7)\n",
            "Requirement already satisfied: h11<0.15,>=0.13 in /usr/local/lib/python3.11/dist-packages (from httpcore==1.*->httpx>=0.24.1->gradio) (0.14.0)\n",
            "Requirement already satisfied: filelock in /usr/local/lib/python3.11/dist-packages (from huggingface-hub>=0.28.1->gradio) (3.17.0)\n",
            "Requirement already satisfied: requests in /usr/local/lib/python3.11/dist-packages (from huggingface-hub>=0.28.1->gradio) (2.32.3)\n",
            "Requirement already satisfied: tqdm>=4.42.1 in /usr/local/lib/python3.11/dist-packages (from huggingface-hub>=0.28.1->gradio) (4.67.1)\n",
            "Requirement already satisfied: python-dateutil>=2.8.2 in /usr/local/lib/python3.11/dist-packages (from pandas<3.0,>=1.0->gradio) (2.8.2)\n",
            "Requirement already satisfied: pytz>=2020.1 in /usr/local/lib/python3.11/dist-packages (from pandas<3.0,>=1.0->gradio) (2025.1)\n",
            "Requirement already satisfied: tzdata>=2022.7 in /usr/local/lib/python3.11/dist-packages (from pandas<3.0,>=1.0->gradio) (2025.1)\n",
            "Requirement already satisfied: annotated-types>=0.6.0 in /usr/local/lib/python3.11/dist-packages (from pydantic>=2.0->gradio) (0.7.0)\n",
            "Requirement already satisfied: pydantic-core==2.27.2 in /usr/local/lib/python3.11/dist-packages (from pydantic>=2.0->gradio) (2.27.2)\n",
            "Requirement already satisfied: click>=8.0.0 in /usr/local/lib/python3.11/dist-packages (from typer<1.0,>=0.12->gradio) (8.1.8)\n",
            "Requirement already satisfied: shellingham>=1.3.0 in /usr/local/lib/python3.11/dist-packages (from typer<1.0,>=0.12->gradio) (1.5.4)\n",
            "Requirement already satisfied: rich>=10.11.0 in /usr/local/lib/python3.11/dist-packages (from typer<1.0,>=0.12->gradio) (13.9.4)\n",
            "Requirement already satisfied: six>=1.5 in /usr/local/lib/python3.11/dist-packages (from python-dateutil>=2.8.2->pandas<3.0,>=1.0->gradio) (1.17.0)\n",
            "Requirement already satisfied: markdown-it-py>=2.2.0 in /usr/local/lib/python3.11/dist-packages (from rich>=10.11.0->typer<1.0,>=0.12->gradio) (3.0.0)\n",
            "Requirement already satisfied: pygments<3.0.0,>=2.13.0 in /usr/local/lib/python3.11/dist-packages (from rich>=10.11.0->typer<1.0,>=0.12->gradio) (2.18.0)\n",
            "Requirement already satisfied: charset-normalizer<4,>=2 in /usr/local/lib/python3.11/dist-packages (from requests->huggingface-hub>=0.28.1->gradio) (3.4.1)\n",
            "Requirement already satisfied: urllib3<3,>=1.21.1 in /usr/local/lib/python3.11/dist-packages (from requests->huggingface-hub>=0.28.1->gradio) (2.3.0)\n",
            "Requirement already satisfied: mdurl~=0.1 in /usr/local/lib/python3.11/dist-packages (from markdown-it-py>=2.2.0->rich>=10.11.0->typer<1.0,>=0.12->gradio) (0.1.2)\n",
            "Downloading gradio-5.20.1-py3-none-any.whl (62.3 MB)\n",
            "\u001b[2K   \u001b[90m\u2501\u2501\u2501\u2501\u2501\u2501\u2501\u2501\u2501\u2501\u2501\u2501\u2501\u2501\u2501\u2501\u2501\u2501\u2501\u2501\u2501\u2501\u2501\u2501\u2501\u2501\u2501\u2501\u2501\u2501\u2501\u2501\u2501\u2501\u2501\u2501\u2501\u2501\u2501\u2501\u001b[0m \u001b[32m62.3/62.3 MB\u001b[0m \u001b[31m13.3 MB/s\u001b[0m eta \u001b[36m0:00:00\u001b[0m\n",
            "\u001b[?25hDownloading gradio_client-1.7.2-py3-none-any.whl (322 kB)\n",
            "\u001b[2K   \u001b[90m\u2501\u2501\u2501\u2501\u2501\u2501\u2501\u2501\u2501\u2501\u2501\u2501\u2501\u2501\u2501\u2501\u2501\u2501\u2501\u2501\u2501\u2501\u2501\u2501\u2501\u2501\u2501\u2501\u2501\u2501\u2501\u2501\u2501\u2501\u2501\u2501\u2501\u2501\u2501\u2501\u001b[0m \u001b[32m322.1/322.1 kB\u001b[0m \u001b[31m28.6 MB/s\u001b[0m eta \u001b[36m0:00:00\u001b[0m\n",
            "\u001b[?25hDownloading aiofiles-23.2.1-py3-none-any.whl (15 kB)\n",
            "Downloading fastapi-0.115.11-py3-none-any.whl (94 kB)\n",
            "\u001b[2K   \u001b[90m\u2501\u2501\u2501\u2501\u2501\u2501\u2501\u2501\u2501\u2501\u2501\u2501\u2501\u2501\u2501\u2501\u2501\u2501\u2501\u2501\u2501\u2501\u2501\u2501\u2501\u2501\u2501\u2501\u2501\u2501\u2501\u2501\u2501\u2501\u2501\u2501\u2501\u2501\u2501\u2501\u001b[0m \u001b[32m94.9/94.9 kB\u001b[0m \u001b[31m9.7 MB/s\u001b[0m eta \u001b[36m0:00:00\u001b[0m\n",
            "\u001b[?25hDownloading groovy-0.1.2-py3-none-any.whl (14 kB)\n",
            "Downloading MarkupSafe-2.1.5-cp311-cp311-manylinux_2_17_x86_64.manylinux2014_x86_64.whl (28 kB)\n",
            "Downloading python_multipart-0.0.20-py3-none-any.whl (24 kB)\n",
            "Downloading ruff-0.9.10-py3-none-manylinux_2_17_x86_64.manylinux2014_x86_64.whl (11.3 MB)\n",
            "\u001b[2K   \u001b[90m\u2501\u2501\u2501\u2501\u2501\u2501\u2501\u2501\u2501\u2501\u2501\u2501\u2501\u2501\u2501\u2501\u2501\u2501\u2501\u2501\u2501\u2501\u2501\u2501\u2501\u2501\u2501\u2501\u2501\u2501\u2501\u2501\u2501\u2501\u2501\u2501\u2501\u2501\u2501\u2501\u001b[0m \u001b[32m11.3/11.3 MB\u001b[0m \u001b[31m106.2 MB/s\u001b[0m eta \u001b[36m0:00:00\u001b[0m\n",
            "\u001b[?25hDownloading safehttpx-0.1.6-py3-none-any.whl (8.7 kB)\n",
            "Downloading semantic_version-2.10.0-py2.py3-none-any.whl (15 kB)\n",
            "Downloading starlette-0.46.1-py3-none-any.whl (71 kB)\n",
            "\u001b[2K   \u001b[90m\u2501\u2501\u2501\u2501\u2501\u2501\u2501\u2501\u2501\u2501\u2501\u2501\u2501\u2501\u2501\u2501\u2501\u2501\u2501\u2501\u2501\u2501\u2501\u2501\u2501\u2501\u2501\u2501\u2501\u2501\u2501\u2501\u2501\u2501\u2501\u2501\u2501\u2501\u2501\u2501\u001b[0m \u001b[32m72.0/72.0 kB\u001b[0m \u001b[31m7.4 MB/s\u001b[0m eta \u001b[36m0:00:00\u001b[0m\n",
            "\u001b[?25hDownloading tomlkit-0.13.2-py3-none-any.whl (37 kB)\n",
            "Downloading uvicorn-0.34.0-py3-none-any.whl (62 kB)\n",
            "\u001b[2K   \u001b[90m\u2501\u2501\u2501\u2501\u2501\u2501\u2501\u2501\u2501\u2501\u2501\u2501\u2501\u2501\u2501\u2501\u2501\u2501\u2501\u2501\u2501\u2501\u2501\u2501\u2501\u2501\u2501\u2501\u2501\u2501\u2501\u2501\u2501\u2501\u2501\u2501\u2501\u2501\u2501\u2501\u001b[0m \u001b[32m62.3/62.3 kB\u001b[0m \u001b[31m6.3 MB/s\u001b[0m eta \u001b[36m0:00:00\u001b[0m\n",
            "\u001b[?25hDownloading ffmpy-0.5.0-py3-none-any.whl (6.0 kB)\n",
            "Downloading pydub-0.25.1-py2.py3-none-any.whl (32 kB)\n",
            "Installing collected packages: pydub, uvicorn, tomlkit, semantic-version, ruff, python-multipart, markupsafe, groovy, ffmpy, aiofiles, starlette, safehttpx, gradio-client, fastapi, gradio\n",
            "  Attempting uninstall: markupsafe\n",
            "    Found existing installation: MarkupSafe 3.0.2\n",
            "    Uninstalling MarkupSafe-3.0.2:\n",
            "      Successfully uninstalled MarkupSafe-3.0.2\n",
            "Successfully installed aiofiles-23.2.1 fastapi-0.115.11 ffmpy-0.5.0 gradio-5.20.1 gradio-client-1.7.2 groovy-0.1.2 markupsafe-2.1.5 pydub-0.25.1 python-multipart-0.0.20 ruff-0.9.10 safehttpx-0.1.6 semantic-version-2.10.0 starlette-0.46.1 tomlkit-0.13.2 uvicorn-0.34.0\n"
          ]
        }
      ]
    },
    {
      "cell_type": "code",
      "source": [
        "import gradio as gr\n",
        "\n",
        "def generate_image_ui(prompt, num_inference_step=50, guidance_scale=7.5):\n",
        "  image = generate_image(prompt, num_inference_step, guidance_scale)\n",
        "  return image\n",
        "\n",
        "interface = gr.Interface(\n",
        "    fn=generate_image_ui,\n",
        "    inputs=[\n",
        "        gr.Textbox(label=\"Enter your prompt\"),\n",
        "        gr.Slider(minimum=1, maximum=100, value=50, label=\"Number of Inference Steps\"),\n",
        "        gr.Slider(minimum=1,maximum=20,value=7.5,label=\"Guidance Scale\")\n",
        "    ],\n",
        "    outputs=gr.Image(label=\"Generated Image\"),\n",
        "    title=\"Text-to-Image Generator using Stable Diffusion\"\n",
        ")\n",
        "interface.launch()"
      ],
      "metadata": {
        "colab": {
          "base_uri": "https://localhost:8080/",
          "height": 646
        },
        "id": "KcHI1dRPNjmq",
        "outputId": "fa639211-2326-4d9d-aa92-c2d7e81d468b"
      },
      "execution_count": null,
      "outputs": [
        {
          "output_type": "stream",
          "name": "stdout",
          "text": [
            "Running Gradio in a Colab notebook requires sharing enabled. Automatically setting `share=True` (you can turn this off by setting `share=False` in `launch()` explicitly).\n",
            "\n",
            "Colab notebook detected. To show errors in colab notebook, set debug=True in launch()\n",
            "* Running on public URL: https://61ababdcfc4abd9fda.gradio.live\n",
            "\n",
            "This share link expires in 72 hours. For free permanent hosting and GPU upgrades, run `gradio deploy` from the terminal in the working directory to deploy to Hugging Face Spaces (https://huggingface.co/spaces)\n"
          ]
        },
        {
          "output_type": "display_data",
          "data": {
            "text/plain": [
              "<IPython.core.display.HTML object>"
            ],
            "text/html": [
              "<div><iframe src=\"https://61ababdcfc4abd9fda.gradio.live\" width=\"100%\" height=\"500\" allow=\"autoplay; camera; microphone; clipboard-read; clipboard-write;\" frameborder=\"0\" allowfullscreen></iframe></div>"
            ]
          },
          "metadata": {}
        },
        {
          "output_type": "execute_result",
          "data": {
            "text/plain": []
          },
          "metadata": {},
          "execution_count": 7
        }
      ]
    }
  ]
}
